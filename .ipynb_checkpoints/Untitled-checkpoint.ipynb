{
 "cells": [
  {
   "cell_type": "code",
   "execution_count": 88,
   "metadata": {},
   "outputs": [
    {
     "name": "stderr",
     "output_type": "stream",
     "text": [
      "[nltk_data] Downloading package stopwords to\n",
      "[nltk_data]     C:\\Users\\balaji\\AppData\\Roaming\\nltk_data...\n",
      "[nltk_data]   Package stopwords is already up-to-date!\n"
     ]
    }
   ],
   "source": [
    "import pandas as pd\n",
    "import numpy as np\n",
    "import seaborn as sns\n",
    "import matplotlib.pyplot as plt\n",
    "import nltk\n",
    "nltk.download('stopwords')\n",
    "from nltk.corpus import stopwords"
   ]
  },
  {
   "cell_type": "code",
   "execution_count": 89,
   "metadata": {},
   "outputs": [
    {
     "data": {
      "text/html": [
       "<div>\n",
       "<style scoped>\n",
       "    .dataframe tbody tr th:only-of-type {\n",
       "        vertical-align: middle;\n",
       "    }\n",
       "\n",
       "    .dataframe tbody tr th {\n",
       "        vertical-align: top;\n",
       "    }\n",
       "\n",
       "    .dataframe thead th {\n",
       "        text-align: right;\n",
       "    }\n",
       "</style>\n",
       "<table border=\"1\" class=\"dataframe\">\n",
       "  <thead>\n",
       "    <tr style=\"text-align: right;\">\n",
       "      <th></th>\n",
       "      <th>id</th>\n",
       "      <th>brand</th>\n",
       "      <th>categories</th>\n",
       "      <th>manufacturer</th>\n",
       "      <th>name</th>\n",
       "      <th>reviews_date</th>\n",
       "      <th>reviews_didPurchase</th>\n",
       "      <th>reviews_doRecommend</th>\n",
       "      <th>reviews_rating</th>\n",
       "      <th>reviews_text</th>\n",
       "      <th>reviews_title</th>\n",
       "      <th>reviews_userCity</th>\n",
       "      <th>reviews_userProvince</th>\n",
       "      <th>reviews_username</th>\n",
       "      <th>user_sentiment</th>\n",
       "    </tr>\n",
       "  </thead>\n",
       "  <tbody>\n",
       "    <tr>\n",
       "      <th>0</th>\n",
       "      <td>AV13O1A8GV-KLJ3akUyj</td>\n",
       "      <td>Universal Music</td>\n",
       "      <td>Movies, Music &amp; Books,Music,R&amp;b,Movies &amp; TV,Mo...</td>\n",
       "      <td>Universal Music Group / Cash Money</td>\n",
       "      <td>Pink Friday: Roman Reloaded Re-Up (w/dvd)</td>\n",
       "      <td>2012-11-30T06:21:45.000Z</td>\n",
       "      <td>NaN</td>\n",
       "      <td>NaN</td>\n",
       "      <td>5</td>\n",
       "      <td>i love this album. it's very good. more to the...</td>\n",
       "      <td>Just Awesome</td>\n",
       "      <td>Los Angeles</td>\n",
       "      <td>NaN</td>\n",
       "      <td>joshua</td>\n",
       "      <td>Positive</td>\n",
       "    </tr>\n",
       "    <tr>\n",
       "      <th>1</th>\n",
       "      <td>AV14LG0R-jtxr-f38QfS</td>\n",
       "      <td>Lundberg</td>\n",
       "      <td>Food,Packaged Foods,Snacks,Crackers,Snacks, Co...</td>\n",
       "      <td>Lundberg</td>\n",
       "      <td>Lundberg Organic Cinnamon Toast Rice Cakes</td>\n",
       "      <td>2017-07-09T00:00:00.000Z</td>\n",
       "      <td>True</td>\n",
       "      <td>NaN</td>\n",
       "      <td>5</td>\n",
       "      <td>Good flavor. This review was collected as part...</td>\n",
       "      <td>Good</td>\n",
       "      <td>NaN</td>\n",
       "      <td>NaN</td>\n",
       "      <td>dorothy w</td>\n",
       "      <td>Positive</td>\n",
       "    </tr>\n",
       "    <tr>\n",
       "      <th>2</th>\n",
       "      <td>AV14LG0R-jtxr-f38QfS</td>\n",
       "      <td>Lundberg</td>\n",
       "      <td>Food,Packaged Foods,Snacks,Crackers,Snacks, Co...</td>\n",
       "      <td>Lundberg</td>\n",
       "      <td>Lundberg Organic Cinnamon Toast Rice Cakes</td>\n",
       "      <td>2017-07-09T00:00:00.000Z</td>\n",
       "      <td>True</td>\n",
       "      <td>NaN</td>\n",
       "      <td>5</td>\n",
       "      <td>Good flavor.</td>\n",
       "      <td>Good</td>\n",
       "      <td>NaN</td>\n",
       "      <td>NaN</td>\n",
       "      <td>dorothy w</td>\n",
       "      <td>Positive</td>\n",
       "    </tr>\n",
       "    <tr>\n",
       "      <th>3</th>\n",
       "      <td>AV16khLE-jtxr-f38VFn</td>\n",
       "      <td>K-Y</td>\n",
       "      <td>Personal Care,Medicine Cabinet,Lubricant/Sperm...</td>\n",
       "      <td>K-Y</td>\n",
       "      <td>K-Y Love Sensuality Pleasure Gel</td>\n",
       "      <td>2016-01-06T00:00:00.000Z</td>\n",
       "      <td>False</td>\n",
       "      <td>False</td>\n",
       "      <td>1</td>\n",
       "      <td>I read through the reviews on here before look...</td>\n",
       "      <td>Disappointed</td>\n",
       "      <td>NaN</td>\n",
       "      <td>NaN</td>\n",
       "      <td>rebecca</td>\n",
       "      <td>Negative</td>\n",
       "    </tr>\n",
       "    <tr>\n",
       "      <th>4</th>\n",
       "      <td>AV16khLE-jtxr-f38VFn</td>\n",
       "      <td>K-Y</td>\n",
       "      <td>Personal Care,Medicine Cabinet,Lubricant/Sperm...</td>\n",
       "      <td>K-Y</td>\n",
       "      <td>K-Y Love Sensuality Pleasure Gel</td>\n",
       "      <td>2016-12-21T00:00:00.000Z</td>\n",
       "      <td>False</td>\n",
       "      <td>False</td>\n",
       "      <td>1</td>\n",
       "      <td>My husband bought this gel for us. The gel cau...</td>\n",
       "      <td>Irritation</td>\n",
       "      <td>NaN</td>\n",
       "      <td>NaN</td>\n",
       "      <td>walker557</td>\n",
       "      <td>Negative</td>\n",
       "    </tr>\n",
       "  </tbody>\n",
       "</table>\n",
       "</div>"
      ],
      "text/plain": [
       "                     id            brand  \\\n",
       "0  AV13O1A8GV-KLJ3akUyj  Universal Music   \n",
       "1  AV14LG0R-jtxr-f38QfS         Lundberg   \n",
       "2  AV14LG0R-jtxr-f38QfS         Lundberg   \n",
       "3  AV16khLE-jtxr-f38VFn              K-Y   \n",
       "4  AV16khLE-jtxr-f38VFn              K-Y   \n",
       "\n",
       "                                          categories  \\\n",
       "0  Movies, Music & Books,Music,R&b,Movies & TV,Mo...   \n",
       "1  Food,Packaged Foods,Snacks,Crackers,Snacks, Co...   \n",
       "2  Food,Packaged Foods,Snacks,Crackers,Snacks, Co...   \n",
       "3  Personal Care,Medicine Cabinet,Lubricant/Sperm...   \n",
       "4  Personal Care,Medicine Cabinet,Lubricant/Sperm...   \n",
       "\n",
       "                         manufacturer  \\\n",
       "0  Universal Music Group / Cash Money   \n",
       "1                            Lundberg   \n",
       "2                            Lundberg   \n",
       "3                                 K-Y   \n",
       "4                                 K-Y   \n",
       "\n",
       "                                         name              reviews_date  \\\n",
       "0   Pink Friday: Roman Reloaded Re-Up (w/dvd)  2012-11-30T06:21:45.000Z   \n",
       "1  Lundberg Organic Cinnamon Toast Rice Cakes  2017-07-09T00:00:00.000Z   \n",
       "2  Lundberg Organic Cinnamon Toast Rice Cakes  2017-07-09T00:00:00.000Z   \n",
       "3            K-Y Love Sensuality Pleasure Gel  2016-01-06T00:00:00.000Z   \n",
       "4            K-Y Love Sensuality Pleasure Gel  2016-12-21T00:00:00.000Z   \n",
       "\n",
       "  reviews_didPurchase reviews_doRecommend  reviews_rating  \\\n",
       "0                 NaN                 NaN               5   \n",
       "1                True                 NaN               5   \n",
       "2                True                 NaN               5   \n",
       "3               False               False               1   \n",
       "4               False               False               1   \n",
       "\n",
       "                                        reviews_text reviews_title  \\\n",
       "0  i love this album. it's very good. more to the...  Just Awesome   \n",
       "1  Good flavor. This review was collected as part...          Good   \n",
       "2                                       Good flavor.          Good   \n",
       "3  I read through the reviews on here before look...  Disappointed   \n",
       "4  My husband bought this gel for us. The gel cau...    Irritation   \n",
       "\n",
       "  reviews_userCity reviews_userProvince reviews_username user_sentiment  \n",
       "0      Los Angeles                  NaN           joshua       Positive  \n",
       "1              NaN                  NaN        dorothy w       Positive  \n",
       "2              NaN                  NaN        dorothy w       Positive  \n",
       "3              NaN                  NaN          rebecca       Negative  \n",
       "4              NaN                  NaN        walker557       Negative  "
      ]
     },
     "execution_count": 89,
     "metadata": {},
     "output_type": "execute_result"
    }
   ],
   "source": [
    "#Load the dataset\n",
    "df_reviews = pd.read_csv(\"dataset\\sample30.csv\")\n",
    "df_reviews.head()"
   ]
  },
  {
   "cell_type": "code",
   "execution_count": 90,
   "metadata": {},
   "outputs": [
    {
     "name": "stdout",
     "output_type": "stream",
     "text": [
      "<class 'pandas.core.frame.DataFrame'>\n",
      "RangeIndex: 30000 entries, 0 to 29999\n",
      "Data columns (total 15 columns):\n",
      " #   Column                Non-Null Count  Dtype \n",
      "---  ------                --------------  ----- \n",
      " 0   id                    30000 non-null  object\n",
      " 1   brand                 30000 non-null  object\n",
      " 2   categories            30000 non-null  object\n",
      " 3   manufacturer          29859 non-null  object\n",
      " 4   name                  30000 non-null  object\n",
      " 5   reviews_date          29954 non-null  object\n",
      " 6   reviews_didPurchase   15932 non-null  object\n",
      " 7   reviews_doRecommend   27430 non-null  object\n",
      " 8   reviews_rating        30000 non-null  int64 \n",
      " 9   reviews_text          30000 non-null  object\n",
      " 10  reviews_title         29810 non-null  object\n",
      " 11  reviews_userCity      1929 non-null   object\n",
      " 12  reviews_userProvince  170 non-null    object\n",
      " 13  reviews_username      29937 non-null  object\n",
      " 14  user_sentiment        29999 non-null  object\n",
      "dtypes: int64(1), object(14)\n",
      "memory usage: 3.4+ MB\n"
     ]
    }
   ],
   "source": [
    "df_reviews.info()"
   ]
  },
  {
   "cell_type": "code",
   "execution_count": 91,
   "metadata": {},
   "outputs": [
    {
     "data": {
      "text/plain": [
       "id                          0\n",
       "brand                       0\n",
       "categories                  0\n",
       "manufacturer              141\n",
       "name                        0\n",
       "reviews_date               46\n",
       "reviews_didPurchase     14068\n",
       "reviews_doRecommend      2570\n",
       "reviews_rating              0\n",
       "reviews_text                0\n",
       "reviews_title             190\n",
       "reviews_userCity        28071\n",
       "reviews_userProvince    29830\n",
       "reviews_username           63\n",
       "user_sentiment              1\n",
       "dtype: int64"
      ]
     },
     "execution_count": 91,
     "metadata": {},
     "output_type": "execute_result"
    }
   ],
   "source": [
    "df_reviews.isnull().sum()"
   ]
  },
  {
   "cell_type": "code",
   "execution_count": 92,
   "metadata": {},
   "outputs": [],
   "source": [
    "df_reviews =df_reviews[~df_reviews.user_sentiment.isnull()]"
   ]
  },
  {
   "cell_type": "code",
   "execution_count": 93,
   "metadata": {},
   "outputs": [
    {
     "data": {
      "text/plain": [
       "id                          0\n",
       "brand                       0\n",
       "categories                  0\n",
       "manufacturer              141\n",
       "name                        0\n",
       "reviews_date               46\n",
       "reviews_didPurchase     14067\n",
       "reviews_doRecommend      2570\n",
       "reviews_rating              0\n",
       "reviews_text                0\n",
       "reviews_title             190\n",
       "reviews_userCity        28070\n",
       "reviews_userProvince    29830\n",
       "reviews_username           63\n",
       "user_sentiment              0\n",
       "dtype: int64"
      ]
     },
     "execution_count": 93,
     "metadata": {},
     "output_type": "execute_result"
    }
   ],
   "source": [
    "df_reviews.isnull().sum()"
   ]
  },
  {
   "cell_type": "code",
   "execution_count": 94,
   "metadata": {},
   "outputs": [
    {
     "data": {
      "text/plain": [
       "<seaborn.axisgrid.FacetGrid at 0x27826f32e88>"
      ]
     },
     "execution_count": 94,
     "metadata": {},
     "output_type": "execute_result"
    },
    {
     "data": {
      "image/png": "[encoded data removed]",
      "text/plain": [
       "<Figure size 360x360 with 1 Axes>"
      ]
     },
     "metadata": {
      "needs_background": "light"
     },
     "output_type": "display_data"
    }
   ],
   "source": [
    "sns.catplot(x='user_sentiment', data=df_reviews, kind=\"count\")"
   ]
  },
  {
   "cell_type": "code",
   "execution_count": 95,
   "metadata": {},
   "outputs": [
    {
     "data": {
      "text/plain": [
       "<seaborn.axisgrid.FacetGrid at 0x2781944ffc8>"
      ]
     },
     "execution_count": 95,
     "metadata": {},
     "output_type": "execute_result"
    },
    {
     "data": {
      "image/png": "[encoded data removed]",
      "text/plain": [
       "<Figure size 360x360 with 1 Axes>"
      ]
     },
     "metadata": {
      "needs_background": "light"
     },
     "output_type": "display_data"
    }
   ],
   "source": [
    "sns.catplot(x='reviews_rating', data=df_reviews, kind=\"count\")"
   ]
  },
  {
   "cell_type": "code",
   "execution_count": 96,
   "metadata": {},
   "outputs": [
    {
     "data": {
      "text/plain": [
       "Clorox                  10585\n",
       "Warner Home Video        3325\n",
       "Disney                   1199\n",
       "L'oreal Paris            1186\n",
       "FOX                       887\n",
       "                        ...  \n",
       "Southern Enterprises        1\n",
       "Wilton                      1\n",
       "Udi's                       1\n",
       "Baxton Studio               1\n",
       "Teamson                     1\n",
       "Name: brand, Length: 214, dtype: int64"
      ]
     },
     "execution_count": 96,
     "metadata": {},
     "output_type": "execute_result"
    }
   ],
   "source": [
    "df_reviews.brand.value_counts()"
   ]
  },
  {
   "cell_type": "code",
   "execution_count": 97,
   "metadata": {},
   "outputs": [
    {
     "data": {
      "text/plain": [
       "Household Essentials,Cleaning Supplies,Kitchen Cleaners,Cleaning Wipes,All-Purpose Cleaners,Health & Household,Household Supplies,Household Cleaning,Ways To Shop,Classroom Essentials,Featured Brands,Home And Storage & Org,Clorox,Glass Cleaners,Surface Care & Protection,Business & Industrial,Cleaning & Janitorial Supplies,Cleaners & Disinfectants,Cleaning Wipes & Pads,Cleaning Solutions,Housewares,Target Restock,Food & Grocery,Paper Goods,Wipes,All Purpose Cleaners    8545\n",
       "Movies, Music & Books,Movies,Action & Adventure,Movies & Music,Movies & TV Shows,Frys                                                                                                                                                                                                                                                                                                                                                                                                   3325\n",
       "Household Chemicals,Household Cleaners,Bath & Shower Cleaner,Household Essentials,Cleaning Supplies,Bathroom Cleaners,Prime Pantry,Bathroom,Featured Brands,Home And Storage & Org,Clorox,All-purpose Cleaners,Health & Household,Household Supplies,Household Cleaning,Target Restock,Food & Grocery                                                                                                                                                                                   2039\n",
       "Beauty,Hair Care,Shampoo & Conditioner,Holiday Shop,Christmas,Featured Brands,Health & Beauty,L'oreal,Personal Care,Hair Treatments,Conditioner                                                                                                                                                                                                                                                                                                                                         1186\n",
       "Movies, Music & Books,Movies,Kids' & Family,Ways To Shop Entertainment,Movies & Tv On Blu-Ray,Movies & TV,Disney,Blu-ray,Children & Family,Movies & Music,Movies & TV Shows,Electronics, Tech Toys, Movies, Music,Blu-Rays,See ALL Blu-Ray,Frys                                                                                                                                                                                                                                         1142\n",
       "                                                                                                                                                                                                                                                                                                                                                                                                                                                                                        ... \n",
       "Food,Packaged Foods,Snacks,Cookies,Snacks, Cookies & Chips,Biscuits,Grocery & Gourmet Food,Snack Foods,Shortbread,Grocery                                                                                                                                                                                                                                                                                                                                                                  1\n",
       "Home,Arts & Crafts,Scrapbooking,Scrapbooking Tools,Scrapbook Accessories,Home & Kitchen Features,Punches,Specialty Stores                                                                                                                                                                                                                                                                                                                                                                  1\n",
       "Food,Packaged Foods,Condiments, Dips, & Salad Dressings,Ketchup,Food & Beverage,Meal Solutions, Grains & Pasta,Condiments & Salad Dressing,Featured Brands,Grocery & Gourmet Food,Condiments & Salad Dressings,Grocery,Heinz,Food & Grocery,General Grocery,Marinades & Sauces                                                                                                                                                                                                             1\n",
       "Kitchen & Dining,Cookware & Tools,Baking & Pastry Tools,Cookware, Bakeware & Tools,Crafts,Other Crafts,Home                                                                                                                                                                                                                                                                                                                                                                                1\n",
       "Food,Packaged Foods,Breads & Baked Goods,Tortillas and Taco Shells,Fresh Food,Bakery & Bread,Tortillas, Pitas & Wraps,Mexican Dishes                                                                                                                                                                                                                                                                                                                                                       1\n",
       "Name: categories, Length: 270, dtype: int64"
      ]
     },
     "execution_count": 97,
     "metadata": {},
     "output_type": "execute_result"
    }
   ],
   "source": [
    "df_reviews.categories.value_counts()"
   ]
  },
  {
   "cell_type": "code",
   "execution_count": 98,
   "metadata": {},
   "outputs": [],
   "source": [
    "df_reviews['user_sentiment'] = df_reviews['user_sentiment'].map({'Positive':1,'Negative':0})"
   ]
  },
  {
   "cell_type": "code",
   "execution_count": 99,
   "metadata": {},
   "outputs": [
    {
     "data": {
      "text/plain": [
       "<matplotlib.axes._subplots.AxesSubplot at 0x27827059248>"
      ]
     },
     "execution_count": 99,
     "metadata": {},
     "output_type": "execute_result"
    },
    {
     "data": {
      "image/png": "[encoded data removed]",
      "text/plain": [
       "<Figure size 432x288 with 1 Axes>"
      ]
     },
     "metadata": {
      "needs_background": "light"
     },
     "output_type": "display_data"
    }
   ],
   "source": [
    "#df_pos_reviews = pd.DataFrame(df_reviews[df_reviews['user_sentiment']==1].brand.value_counts()[:10])\n",
    "#df_pos_reviews.head()\n",
    "\n",
    "df_reviews[df_reviews['user_sentiment']==1].groupby('brand')['brand'].count().sort_values(ascending=False)[:10].plot(kind='bar')"
   ]
  },
  {
   "cell_type": "code",
   "execution_count": 100,
   "metadata": {},
   "outputs": [
    {
     "data": {
      "text/plain": [
       "<matplotlib.axes._subplots.AxesSubplot at 0x278270a6f88>"
      ]
     },
     "execution_count": 100,
     "metadata": {},
     "output_type": "execute_result"
    },
    {
     "data": {
      "image/png": "[encoded data removed]",
      "text/plain": [
       "<Figure size 432x288 with 1 Axes>"
      ]
     },
     "metadata": {
      "needs_background": "light"
     },
     "output_type": "display_data"
    }
   ],
   "source": [
    "df_reviews[df_reviews['user_sentiment']==0].groupby('brand')['brand'].count().sort_values(ascending=False)[:10].plot(kind='bar')"
   ]
  },
  {
   "cell_type": "code",
   "execution_count": 101,
   "metadata": {},
   "outputs": [
    {
     "data": {
      "text/html": [
       "<div>\n",
       "<style scoped>\n",
       "    .dataframe tbody tr th:only-of-type {\n",
       "        vertical-align: middle;\n",
       "    }\n",
       "\n",
       "    .dataframe tbody tr th {\n",
       "        vertical-align: top;\n",
       "    }\n",
       "\n",
       "    .dataframe thead th {\n",
       "        text-align: right;\n",
       "    }\n",
       "</style>\n",
       "<table border=\"1\" class=\"dataframe\">\n",
       "  <thead>\n",
       "    <tr style=\"text-align: right;\">\n",
       "      <th></th>\n",
       "      <th>reviews_text</th>\n",
       "      <th>reviews_title</th>\n",
       "      <th>user_sentiment</th>\n",
       "      <th>reviews_rating</th>\n",
       "    </tr>\n",
       "  </thead>\n",
       "  <tbody>\n",
       "    <tr>\n",
       "      <th>3</th>\n",
       "      <td>I read through the reviews on here before look...</td>\n",
       "      <td>Disappointed</td>\n",
       "      <td>0</td>\n",
       "      <td>1</td>\n",
       "    </tr>\n",
       "    <tr>\n",
       "      <th>4</th>\n",
       "      <td>My husband bought this gel for us. The gel cau...</td>\n",
       "      <td>Irritation</td>\n",
       "      <td>0</td>\n",
       "      <td>1</td>\n",
       "    </tr>\n",
       "    <tr>\n",
       "      <th>5</th>\n",
       "      <td>My boyfriend and I bought this to spice things...</td>\n",
       "      <td>Not worth it</td>\n",
       "      <td>0</td>\n",
       "      <td>1</td>\n",
       "    </tr>\n",
       "    <tr>\n",
       "      <th>6</th>\n",
       "      <td>Bought this earlier today and was excited to c...</td>\n",
       "      <td>Disappointing</td>\n",
       "      <td>0</td>\n",
       "      <td>1</td>\n",
       "    </tr>\n",
       "    <tr>\n",
       "      <th>7</th>\n",
       "      <td>I bought this product for my husband and I to ...</td>\n",
       "      <td>Not happy at all</td>\n",
       "      <td>0</td>\n",
       "      <td>1</td>\n",
       "    </tr>\n",
       "    <tr>\n",
       "      <th>...</th>\n",
       "      <td>...</td>\n",
       "      <td>...</td>\n",
       "      <td>...</td>\n",
       "      <td>...</td>\n",
       "    </tr>\n",
       "    <tr>\n",
       "      <th>29818</th>\n",
       "      <td>I received a complimentary sample of this prod...</td>\n",
       "      <td>Great Product</td>\n",
       "      <td>0</td>\n",
       "      <td>5</td>\n",
       "    </tr>\n",
       "    <tr>\n",
       "      <th>29855</th>\n",
       "      <td>This has prolonged the color in my hair! Not o...</td>\n",
       "      <td>Great</td>\n",
       "      <td>0</td>\n",
       "      <td>5</td>\n",
       "    </tr>\n",
       "    <tr>\n",
       "      <th>29858</th>\n",
       "      <td>This conditioner makes my hair very soft witho...</td>\n",
       "      <td>Makes my hair soft and shiny without excess oil!</td>\n",
       "      <td>0</td>\n",
       "      <td>5</td>\n",
       "    </tr>\n",
       "    <tr>\n",
       "      <th>29862</th>\n",
       "      <td>This conditioner has become a staple in my hai...</td>\n",
       "      <td>Great Conditioner</td>\n",
       "      <td>0</td>\n",
       "      <td>5</td>\n",
       "    </tr>\n",
       "    <tr>\n",
       "      <th>29941</th>\n",
       "      <td>It's very difficult to find a conditioner that...</td>\n",
       "      <td>Good for keeping combination hair under control</td>\n",
       "      <td>0</td>\n",
       "      <td>5</td>\n",
       "    </tr>\n",
       "  </tbody>\n",
       "</table>\n",
       "<p>3367 rows × 4 columns</p>\n",
       "</div>"
      ],
      "text/plain": [
       "                                            reviews_text  \\\n",
       "3      I read through the reviews on here before look...   \n",
       "4      My husband bought this gel for us. The gel cau...   \n",
       "5      My boyfriend and I bought this to spice things...   \n",
       "6      Bought this earlier today and was excited to c...   \n",
       "7      I bought this product for my husband and I to ...   \n",
       "...                                                  ...   \n",
       "29818  I received a complimentary sample of this prod...   \n",
       "29855  This has prolonged the color in my hair! Not o...   \n",
       "29858  This conditioner makes my hair very soft witho...   \n",
       "29862  This conditioner has become a staple in my hai...   \n",
       "29941  It's very difficult to find a conditioner that...   \n",
       "\n",
       "                                          reviews_title  user_sentiment  \\\n",
       "3                                          Disappointed               0   \n",
       "4                                            Irritation               0   \n",
       "5                                          Not worth it               0   \n",
       "6                                         Disappointing               0   \n",
       "7                                      Not happy at all               0   \n",
       "...                                                 ...             ...   \n",
       "29818                                     Great Product               0   \n",
       "29855                                             Great               0   \n",
       "29858  Makes my hair soft and shiny without excess oil!               0   \n",
       "29862                                 Great Conditioner               0   \n",
       "29941   Good for keeping combination hair under control               0   \n",
       "\n",
       "       reviews_rating  \n",
       "3                   1  \n",
       "4                   1  \n",
       "5                   1  \n",
       "6                   1  \n",
       "7                   1  \n",
       "...               ...  \n",
       "29818               5  \n",
       "29855               5  \n",
       "29858               5  \n",
       "29862               5  \n",
       "29941               5  \n",
       "\n",
       "[3367 rows x 4 columns]"
      ]
     },
     "execution_count": 101,
     "metadata": {},
     "output_type": "execute_result"
    }
   ],
   "source": [
    "df_reviews[df_reviews['user_sentiment']==0][['reviews_text', 'reviews_title', 'user_sentiment','reviews_rating']]"
   ]
  },
  {
   "cell_type": "code",
   "execution_count": 102,
   "metadata": {},
   "outputs": [
    {
     "data": {
      "text/plain": [
       "count    3367.000000\n",
       "mean        3.871993\n",
       "std         1.537589\n",
       "min         1.000000\n",
       "25%         3.000000\n",
       "50%         5.000000\n",
       "75%         5.000000\n",
       "max         5.000000\n",
       "Name: reviews_rating, dtype: float64"
      ]
     },
     "execution_count": 102,
     "metadata": {},
     "output_type": "execute_result"
    }
   ],
   "source": [
    "df_reviews[df_reviews['user_sentiment']==0].reviews_rating.describe()"
   ]
  },
  {
   "cell_type": "code",
   "execution_count": 119,
   "metadata": {},
   "outputs": [],
   "source": [
    "from nltk.stem import WordNetLemmatizer\n",
    "import re\n",
    "import string\n",
    "from nltk.tokenize import word_tokenize"
   ]
  },
  {
   "cell_type": "code",
   "execution_count": 104,
   "metadata": {},
   "outputs": [],
   "source": [
    "# Write your function here to clean the text and remove all the unnecessary elements.\n",
    "def clean_text(text):\n",
    "    text = text.lower()\n",
    "    text = text.strip()\n",
    "    text = re.sub(\"\\[\\s*\\w*\\s*\\]\", \"\", text)\n",
    "    dictionary = \"abc\".maketrans('', '', string.punctuation)\n",
    "    text = text.translate(dictionary)\n",
    "    text = re.sub(\"\\S*\\d\\S*\", \"\", text)\n",
    "    \n",
    "    return text"
   ]
  },
  {
   "cell_type": "code",
   "execution_count": 105,
   "metadata": {},
   "outputs": [],
   "source": [
    "df_reviews['reviews_text'] = df_reviews['reviews_text'].apply(lambda x: clean_text(x))"
   ]
  },
  {
   "cell_type": "code",
   "execution_count": 106,
   "metadata": {},
   "outputs": [],
   "source": [
    "from sklearn.feature_extraction.text import CountVectorizer, TfidfVectorizer"
   ]
  },
  {
   "cell_type": "code",
   "execution_count": 107,
   "metadata": {},
   "outputs": [],
   "source": [
    "count_vector = CountVectorizer(max_features=500)"
   ]
  },
  {
   "cell_type": "code",
   "execution_count": 108,
   "metadata": {},
   "outputs": [
    {
     "data": {
      "text/plain": [
       "array([[0, 0, 0, ..., 0, 0, 0],\n",
       "       [0, 0, 0, ..., 0, 0, 0],\n",
       "       [0, 0, 0, ..., 0, 0, 0],\n",
       "       ...,\n",
       "       [0, 0, 0, ..., 0, 1, 1],\n",
       "       [0, 0, 0, ..., 0, 0, 0],\n",
       "       [0, 0, 0, ..., 0, 0, 0]], dtype=int64)"
      ]
     },
     "execution_count": 108,
     "metadata": {},
     "output_type": "execute_result"
    }
   ],
   "source": [
    "data_count = count_vector.fit_transform(df_reviews['reviews_text'])\n",
    "data_count.toarray()"
   ]
  },
  {
   "cell_type": "code",
   "execution_count": 109,
   "metadata": {},
   "outputs": [
    {
     "name": "stdout",
     "output_type": "stream",
     "text": [
      "['able', 'about', 'absolutely', 'action', 'actually', 'add', 'after', 'again', 'ago', 'all', 'almost', 'along', 'also', 'always', 'am', 'amazing', 'amount', 'an', 'and', 'another', 'any', 'anyone', 'anything', 'are', 'area', 'around', 'as', 'at', 'away', 'awesome', 'baby', 'back', 'bad', 'bag', 'bathroom', 'bathrooms', 'be', 'because', 'been', 'before', 'being', 'best', 'better', 'big', 'bit', 'bleach', 'bluray', 'both', 'bottle', 'bought', 'box', 'brand', 'brands', 'bring', 'but', 'buy', 'buying', 'by', 'came', 'can', 'canister', 'cant', 'car', 'care', 'cast', 'chair', 'change', 'changed', 'characters', 'children', 'classic', 'clay', 'clean', 'cleaner', 'cleaning', 'cleans', 'clear', 'clorox', 'cocoa', 'cold', 'collected', 'collection', 'color', 'colors', 'come', 'comedy', 'comes', 'conditioner', 'container', 'convenient', 'could', 'couldnt', 'counter', 'counters', 'couple', 'cream', 'daily', 'daughter', 'day', 'days', 'deal', 'definitely', 'did', 'didnt', 'difference', 'different', 'disappointed', 'disinfect', 'disinfected', 'disinfecting', 'disinfects', 'do', 'does', 'doesnt', 'done', 'dont', 'door', 'down', 'dry', 'during', 'dvd', 'each', 'easier', 'easily', 'easy', 'effective', 'effects', 'else', 'end', 'ends', 'enjoy', 'enjoyed', 'enough', 'entertaining', 'entire', 'especially', 'etc', 'even', 'ever', 'every', 'everyday', 'everyone', 'everything', 'everywhere', 'excellent', 'extra', 'extremely', 'face', 'family', 'fan', 'fantastic', 'far', 'fast', 'favorite', 'feel', 'feeling', 'feels', 'felt', 'few', 'film', 'finally', 'find', 'fine', 'first', 'flavor', 'flu', 'for', 'formula', 'found', 'fragrance', 'free', 'fresh', 'friends', 'from', 'full', 'fun', 'funny', 'gel', 'germs', 'get', 'gets', 'getting', 'give', 'gives', 'glad', 'go', 'godzilla', 'goes', 'going', 'good', 'got', 'grab', 'greasy', 'great', 'had', 'hair', 'hand', 'hands', 'handy', 'happy', 'hard', 'has', 'have', 'having', 'he', 'healthy', 'heavy', 'help', 'helps', 'her', 'high', 'highly', 'him', 'his', 'hold', 'home', 'hoover', 'hope', 'house', 'how', 'however', 'husband', 'if', 'im', 'in', 'influenster', 'into', 'is', 'isnt', 'it', 'item', 'its', 'ive', 'job', 'just', 'keep', 'keeps', 'kids', 'kitchen', 'know', 'last', 'leave', 'leaves', 'left', 'lemon', 'less', 'life', 'light', 'like', 'liked', 'line', 'lip', 'lips', 'little', 'live', 'long', 'longer', 'look', 'looked', 'looking', 'looks', 'lot', 'lots', 'love', 'loved', 'loves', 'made', 'make', 'makes', 'making', 'many', 'mask', 'may', 'me', 'mess', 'messes', 'minutes', 'money', 'monster', 'monsters', 'more', 'most', 'movie', 'movies', 'much', 'must', 'my', 'natural', 'need', 'needed', 'needs', 'never', 'new', 'next', 'nexxus', 'nice', 'night', 'no', 'not', 'nothing', 'now', 'of', 'off', 'oil', 'oily', 'ok', 'old', 'on', 'once', 'one', 'ones', 'only', 'opinions', 'or', 'original', 'other', 'others', 'our', 'out', 'over', 'overall', 'own', 'part', 'people', 'perfect', 'planes', 'please', 'plot', 'plus', 'pretty', 'price', 'problem', 'product', 'products', 'promotion', 'purchase', 'purchased', 'purposes', 'put', 'quality', 'quick', 'quickly', 'quite', 'ray', 'really', 'received', 'recommend', 'results', 'review', 'reviews', 'rice', 'right', 'room', 'roots', 'said', 'same', 'saw', 'say', 'scalp', 'scent', 'school', 'season', 'second', 'see', 'seems', 'seen', 'sequel', 'series', 'set', 'several', 'shampoo', 'she', 'shimmer', 'should', 'show', 'shower', 'since', 'sink', 'size', 'skin', 'small', 'smell', 'smelling', 'smells', 'smooth', 'so', 'soft', 'some', 'something', 'son', 'special', 'spray', 'started', 'still', 'store', 'story', 'stove', 'strong', 'stuff', 'such', 'super', 'sure', 'surface', 'surfaces', 'take', 'taste', 'tell', 'testing', 'than', 'thank', 'thanks', 'that', 'thats', 'the', 'their', 'them', 'then', 'there', 'these', 'they', 'thick', 'thing', 'things', 'think', 'this', 'those', 'though', 'thought', 'three', 'through', 'time', 'times', 'to', 'together', 'toilet', 'too', 'top', 'touch', 'tried', 'trust', 'try', 'trying', 'two', 'under', 'until', 'up', 'us', 'use', 'used', 'uses', 'using', 'usually', 'vacuum', 'value', 'version', 'very', 'wait', 'want', 'wanted', 'was', 'wash', 'wasnt', 'watch', 'watched', 'watching', 'water', 'way', 'we', 'week', 'weeks', 'well', 'went', 'were', 'what', 'when', 'where', 'which', 'while', 'white', 'who', 'whole', 'why', 'will', 'windex', 'wipe', 'wipes', 'wish', 'with', 'without', 'wonderful', 'work', 'worked', 'works', 'worth', 'would', 'year', 'years', 'yet', 'you', 'your']\n"
     ]
    },
    {
     "name": "stderr",
     "output_type": "stream",
     "text": [
      "C:\\Users\\balaji\\AppData\\Roaming\\Python\\Python37\\site-packages\\sklearn\\utils\\deprecation.py:87: FutureWarning: Function get_feature_names is deprecated; get_feature_names is deprecated in 1.0 and will be removed in 1.2. Please use get_feature_names_out instead.\n",
      "  warnings.warn(msg, category=FutureWarning)\n"
     ]
    }
   ],
   "source": [
    "print(count_vector.get_feature_names())"
   ]
  },
  {
   "cell_type": "code",
   "execution_count": 132,
   "metadata": {},
   "outputs": [],
   "source": [
    "from nltk.stem.porter import PorterStemmer"
   ]
  },
  {
   "cell_type": "code",
   "execution_count": 139,
   "metadata": {},
   "outputs": [],
   "source": [
    "lemmatizer = WordNetLemmatizer()\n",
    "stop_words = set(stopwords.words('english'))\n",
    "#porter_stemmer = PorterStemmer()\n",
    "\n",
    "def stem_text(text):\n",
    "     # tokenize into words\n",
    "    words = word_tokenize(text)\n",
    "\n",
    "    # remove stop words and lemmatize\n",
    "    words = [porter_stemmer.stem(word) for word in words if word.isalpha() and word not in stop_words]\n",
    "\n",
    "    # join words to make sentence\n",
    "    return \" \".join(words)"
   ]
  },
  {
   "cell_type": "code",
   "execution_count": 140,
   "metadata": {},
   "outputs": [],
   "source": [
    "df_reviews['reviews_text'] = df_reviews['reviews_text'].apply(lambda x: stem_text(x))"
   ]
  },
  {
   "cell_type": "code",
   "execution_count": 141,
   "metadata": {},
   "outputs": [],
   "source": [
    "count_vector = CountVectorizer(max_features=500,stop_words='english',min_df=7,max_df=0.8)"
   ]
  },
  {
   "cell_type": "code",
   "execution_count": 142,
   "metadata": {},
   "outputs": [],
   "source": [
    "data_count = count_vector.fit_transform(df_reviews['reviews_text'])"
   ]
  },
  {
   "cell_type": "code",
   "execution_count": 143,
   "metadata": {},
   "outputs": [
    {
     "name": "stdout",
     "output_type": "stream",
     "text": [
      "['abl' 'absolut' 'act' 'action' 'actor' 'actual' 'ad' 'add' 'addit' 'age'\n",
      " 'ago' 'alreadi' 'alway' 'amaz' 'anoth' 'anyon' 'anyth' 'anywh' 'appli'\n",
      " 'area' 'ask' 'avail' 'away' 'awesom' 'babi' 'bad' 'bag' 'balm' 'base'\n",
      " 'bathroom' 'beauti' 'bee' 'believ' 'best' 'better' 'big' 'bit' 'black'\n",
      " 'bleach' 'blu' 'bluray' 'bodi' 'bottl' 'bought' 'box' 'boy' 'brand'\n",
      " 'bring' 'brown' 'burt' 'busi' 'buy' 'came' 'canist' 'car' 'care' 'carpet'\n",
      " 'carri' 'cast' 'cd' 'chair' 'chang' 'charact' 'child' 'chip' 'classic'\n",
      " 'classroom' 'clay' 'clean' 'cleaner' 'cleanup' 'clear' 'clorox' 'close'\n",
      " 'cloth' 'cocoa' 'cold' 'collect' 'color' 'come' 'comedi' 'comfort'\n",
      " 'compani' 'compar' 'complet' 'complimentari' 'condit' 'contain' 'continu'\n",
      " 'control' 'conveni' 'cook' 'copi' 'counter' 'countertop' 'coupl' 'cover'\n",
      " 'cream' 'curl' 'curli' 'custom' 'cut' 'daili' 'dark' 'daughter' 'day'\n",
      " 'deal' 'decent' 'decid' 'deep' 'definit' 'deodor' 'desk' 'didnt' 'differ'\n",
      " 'digit' 'disappoint' 'discontinu' 'disinfect' 'disney' 'divid' 'doe'\n",
      " 'doesnt' 'dog' 'dont' 'door' 'dri' 'dvd' 'ea' 'easi' 'easier' 'easili'\n",
      " 'eat' 'effect' 'el' 'end' 'enjoy' 'entertain' 'entir' 'especi' 'everi'\n",
      " 'everyday' 'everyon' 'everyth' 'everywh' 'evil' 'excel' 'excit' 'expect'\n",
      " 'expen' 'extra' 'extrem' 'exxtra' 'eye' 'face' 'fact' 'famili' 'fan'\n",
      " 'fantast' 'far' 'fast' 'favorit' 'featur' 'feel' 'felt' 'fight' 'file'\n",
      " 'film' 'final' 'fine' 'finish' 'flavor' 'floor' 'flu' 'folder' 'follow'\n",
      " 'formula' 'fragranc' 'free' 'fresh' 'friend' 'fun' 'funni' 'gave' 'gel'\n",
      " 'gener' 'germ' 'gift' 'glad' 'glass' 'godzilla' 'gone' 'good' 'got'\n",
      " 'grab' 'greasi' 'great' 'guy' 'ha' 'hair' 'hand' 'handi' 'handl' 'happen'\n",
      " 'happi' 'hard' 'hate' 'havent' 'head' 'healthi' 'heavi' 'help' 'high'\n",
      " 'highli' 'hilari' 'hold' 'home' 'hoover' 'hope' 'horribl' 'hou' 'hour'\n",
      " 'household' 'howev' 'huge' 'husband' 'hydrat' 'id' 'ill' 'im' 'impress'\n",
      " 'includ' 'influenst' 'instead' 'isnt' 'issu' 'item' 'ive' 'job' 'kept'\n",
      " 'kid' 'kill' 'kind' 'kitchen' 'know' 'larg' 'laugh' 'laundri' 'le' 'leaf'\n",
      " 'leav' 'left' 'lemon' 'let' 'life' 'light' 'lightweight' 'like' 'line'\n",
      " 'lip' 'lipstick' 'littl' 'live' 'long' 'longer' 'look' 'lot' 'lotion'\n",
      " 'love' 'low' 'lysol' 'make' 'makeup' 'mani' 'market' 'mask' 'mayb' 'mess'\n",
      " 'messi' 'minut' 'miss' 'mix' 'moistur' 'mom' 'money' 'monster' 'month'\n",
      " 'morn' 'mother' 'movi' 'multipl' 'nail' 'natur' 'need' 'new' 'nexxu'\n",
      " 'nice' 'night' 'normal' 'noth' 'notic' 'offer' 'offic' 'oil' 'oili' 'ok'\n",
      " 'olay' 'old' 'onlin' 'open' 'opinion' 'order' 'organ' 'origin' 'pack'\n",
      " 'packag' 'paper' 'past' 'peopl' 'perfect' 'person' 'pick' 'pictur'\n",
      " 'place' 'plane' 'play' 'plea' 'plot' 'plu' 'powder' 'power' 'prefer'\n",
      " 'pretti' 'previou' 'price' 'problem' 'product' 'promot' 'provid' 'pull'\n",
      " 'purcha' 'purpo' 'qualiti' 'quick' 'quickli' 'quit' 'ray' 'read' 'real'\n",
      " 'realli' 'reason' 'receiv' 'recent' 'recommend' 'red' 'regular' 'remak'\n",
      " 'rememb' 'remov' 'replac' 'resid' 'result' 'return' 'review' 'rice'\n",
      " 'right' 'room' 'root' 'run' 'safe' 'said' 'sale' 'sanit' 'save' 'saw'\n",
      " 'say' 'scalp' 'scene' 'scent' 'school' 'screen' 'season' 'second' 'seen'\n",
      " 'sensit' 'sequel' 'seri' 'set' 'sever' 'shade' 'shampoo' 'shimmer'\n",
      " 'shine' 'shini' 'shower' 'sick' 'silki' 'simpl' 'sinc' 'sink' 'sit'\n",
      " 'size' 'skin' 'small' 'smell' 'smooth' 'soft' 'someon' 'someth' 'sometim'\n",
      " 'son' 'soon' 'sound' 'special' 'spill' 'spray' 'stain' 'star' 'start'\n",
      " 'stay' 'stick' 'sticki' 'stock' 'stop' 'store' 'stori' 'stove' 'streak'\n",
      " 'strong' 'stuff' 'style' 'sunscreen' 'super' 'sure' 'surfac' 'surpri'\n",
      " 'switch' 'tab' 'tabl' 'tast' 'tell' 'terribl' 'test' 'textur' 'thank'\n",
      " 'theater' 'theyr' 'thing' 'think' 'thought' 'throw' 'time' 'togeth'\n",
      " 'toilet' 'took' 'total' 'touch' 'towel' 'toy' 'tri' 'true' 'truli'\n",
      " 'trust' 'tube' 'turn' 'tv' 'type' 'upright' 'use' 'usual' 'vacuum' 'valu'\n",
      " 'version' 'wa' 'wait' 'walmart' 'want' 'wash' 'wasnt' 'watch' 'water'\n",
      " 'way' 'wear' 'week' 'went' 'white' 'wife' 'windex' 'window' 'wipe' 'wish'\n",
      " 'wonder' 'wont' 'work' 'worri' 'worth' 'wouldnt' 'wrong' 'year' 'young']\n"
     ]
    }
   ],
   "source": [
    "print(count_vector.get_feature_names_out())"
   ]
  },
  {
   "cell_type": "code",
   "execution_count": 115,
   "metadata": {},
   "outputs": [
    {
     "name": "stdout",
     "output_type": "stream",
     "text": [
      "Help on class CountVectorizer in module sklearn.feature_extraction.text:\n",
      "\n",
      "class CountVectorizer(_VectorizerMixin, sklearn.base.BaseEstimator)\n",
      " |  CountVectorizer(*, input='content', encoding='utf-8', decode_error='strict', strip_accents=None, lowercase=True, preprocessor=None, tokenizer=None, stop_words=None, token_pattern='(?u)\\\\b\\\\w\\\\w+\\\\b', ngram_range=(1, 1), analyzer='word', max_df=1.0, min_df=1, max_features=None, vocabulary=None, binary=False, dtype=<class 'numpy.int64'>)\n",
      " |  \n",
      " |  Convert a collection of text documents to a matrix of token counts.\n",
      " |  \n",
      " |  This implementation produces a sparse representation of the counts using\n",
      " |  scipy.sparse.csr_matrix.\n",
      " |  \n",
      " |  If you do not provide an a-priori dictionary and you do not use an analyzer\n",
      " |  that does some kind of feature selection then the number of features will\n",
      " |  be equal to the vocabulary size found by analyzing the data.\n",
      " |  \n",
      " |  Read more in the :ref:`User Guide <text_feature_extraction>`.\n",
      " |  \n",
      " |  Parameters\n",
      " |  ----------\n",
      " |  input : {'filename', 'file', 'content'}, default='content'\n",
      " |      - If `'filename'`, the sequence passed as an argument to fit is\n",
      " |        expected to be a list of filenames that need reading to fetch\n",
      " |        the raw content to analyze.\n",
      " |  \n",
      " |      - If `'file'`, the sequence items must have a 'read' method (file-like\n",
      " |        object) that is called to fetch the bytes in memory.\n",
      " |  \n",
      " |      - If `'content'`, the input is expected to be a sequence of items that\n",
      " |        can be of type string or byte.\n",
      " |  \n",
      " |  encoding : str, default='utf-8'\n",
      " |      If bytes or files are given to analyze, this encoding is used to\n",
      " |      decode.\n",
      " |  \n",
      " |  decode_error : {'strict', 'ignore', 'replace'}, default='strict'\n",
      " |      Instruction on what to do if a byte sequence is given to analyze that\n",
      " |      contains characters not of the given `encoding`. By default, it is\n",
      " |      'strict', meaning that a UnicodeDecodeError will be raised. Other\n",
      " |      values are 'ignore' and 'replace'.\n",
      " |  \n",
      " |  strip_accents : {'ascii', 'unicode'}, default=None\n",
      " |      Remove accents and perform other character normalization\n",
      " |      during the preprocessing step.\n",
      " |      'ascii' is a fast method that only works on characters that have\n",
      " |      an direct ASCII mapping.\n",
      " |      'unicode' is a slightly slower method that works on any characters.\n",
      " |      None (default) does nothing.\n",
      " |  \n",
      " |      Both 'ascii' and 'unicode' use NFKD normalization from\n",
      " |      :func:`unicodedata.normalize`.\n",
      " |  \n",
      " |  lowercase : bool, default=True\n",
      " |      Convert all characters to lowercase before tokenizing.\n",
      " |  \n",
      " |  preprocessor : callable, default=None\n",
      " |      Override the preprocessing (strip_accents and lowercase) stage while\n",
      " |      preserving the tokenizing and n-grams generation steps.\n",
      " |      Only applies if ``analyzer is not callable``.\n",
      " |  \n",
      " |  tokenizer : callable, default=None\n",
      " |      Override the string tokenization step while preserving the\n",
      " |      preprocessing and n-grams generation steps.\n",
      " |      Only applies if ``analyzer == 'word'``.\n",
      " |  \n",
      " |  stop_words : {'english'}, list, default=None\n",
      " |      If 'english', a built-in stop word list for English is used.\n",
      " |      There are several known issues with 'english' and you should\n",
      " |      consider an alternative (see :ref:`stop_words`).\n",
      " |  \n",
      " |      If a list, that list is assumed to contain stop words, all of which\n",
      " |      will be removed from the resulting tokens.\n",
      " |      Only applies if ``analyzer == 'word'``.\n",
      " |  \n",
      " |      If None, no stop words will be used. max_df can be set to a value\n",
      " |      in the range [0.7, 1.0) to automatically detect and filter stop\n",
      " |      words based on intra corpus document frequency of terms.\n",
      " |  \n",
      " |  token_pattern : str, default=r\"(?u)\\\\b\\\\w\\\\w+\\\\b\"\n",
      " |      Regular expression denoting what constitutes a \"token\", only used\n",
      " |      if ``analyzer == 'word'``. The default regexp select tokens of 2\n",
      " |      or more alphanumeric characters (punctuation is completely ignored\n",
      " |      and always treated as a token separator).\n",
      " |  \n",
      " |      If there is a capturing group in token_pattern then the\n",
      " |      captured group content, not the entire match, becomes the token.\n",
      " |      At most one capturing group is permitted.\n",
      " |  \n",
      " |  ngram_range : tuple (min_n, max_n), default=(1, 1)\n",
      " |      The lower and upper boundary of the range of n-values for different\n",
      " |      word n-grams or char n-grams to be extracted. All values of n such\n",
      " |      such that min_n <= n <= max_n will be used. For example an\n",
      " |      ``ngram_range`` of ``(1, 1)`` means only unigrams, ``(1, 2)`` means\n",
      " |      unigrams and bigrams, and ``(2, 2)`` means only bigrams.\n",
      " |      Only applies if ``analyzer is not callable``.\n",
      " |  \n",
      " |  analyzer : {'word', 'char', 'char_wb'} or callable, default='word'\n",
      " |      Whether the feature should be made of word n-gram or character\n",
      " |      n-grams.\n",
      " |      Option 'char_wb' creates character n-grams only from text inside\n",
      " |      word boundaries; n-grams at the edges of words are padded with space.\n",
      " |  \n",
      " |      If a callable is passed it is used to extract the sequence of features\n",
      " |      out of the raw, unprocessed input.\n",
      " |  \n",
      " |      .. versionchanged:: 0.21\n",
      " |  \n",
      " |      Since v0.21, if ``input`` is ``filename`` or ``file``, the data is\n",
      " |      first read from the file and then passed to the given callable\n",
      " |      analyzer.\n",
      " |  \n",
      " |  max_df : float in range [0.0, 1.0] or int, default=1.0\n",
      " |      When building the vocabulary ignore terms that have a document\n",
      " |      frequency strictly higher than the given threshold (corpus-specific\n",
      " |      stop words).\n",
      " |      If float, the parameter represents a proportion of documents, integer\n",
      " |      absolute counts.\n",
      " |      This parameter is ignored if vocabulary is not None.\n",
      " |  \n",
      " |  min_df : float in range [0.0, 1.0] or int, default=1\n",
      " |      When building the vocabulary ignore terms that have a document\n",
      " |      frequency strictly lower than the given threshold. This value is also\n",
      " |      called cut-off in the literature.\n",
      " |      If float, the parameter represents a proportion of documents, integer\n",
      " |      absolute counts.\n",
      " |      This parameter is ignored if vocabulary is not None.\n",
      " |  \n",
      " |  max_features : int, default=None\n",
      " |      If not None, build a vocabulary that only consider the top\n",
      " |      max_features ordered by term frequency across the corpus.\n",
      " |  \n",
      " |      This parameter is ignored if vocabulary is not None.\n",
      " |  \n",
      " |  vocabulary : Mapping or iterable, default=None\n",
      " |      Either a Mapping (e.g., a dict) where keys are terms and values are\n",
      " |      indices in the feature matrix, or an iterable over terms. If not\n",
      " |      given, a vocabulary is determined from the input documents. Indices\n",
      " |      in the mapping should not be repeated and should not have any gap\n",
      " |      between 0 and the largest index.\n",
      " |  \n",
      " |  binary : bool, default=False\n",
      " |      If True, all non zero counts are set to 1. This is useful for discrete\n",
      " |      probabilistic models that model binary events rather than integer\n",
      " |      counts.\n",
      " |  \n",
      " |  dtype : type, default=np.int64\n",
      " |      Type of the matrix returned by fit_transform() or transform().\n",
      " |  \n",
      " |  Attributes\n",
      " |  ----------\n",
      " |  vocabulary_ : dict\n",
      " |      A mapping of terms to feature indices.\n",
      " |  \n",
      " |  fixed_vocabulary_ : bool\n",
      " |      True if a fixed vocabulary of term to indices mapping\n",
      " |      is provided by the user.\n",
      " |  \n",
      " |  stop_words_ : set\n",
      " |      Terms that were ignored because they either:\n",
      " |  \n",
      " |        - occurred in too many documents (`max_df`)\n",
      " |        - occurred in too few documents (`min_df`)\n",
      " |        - were cut off by feature selection (`max_features`).\n",
      " |  \n",
      " |      This is only available if no vocabulary was given.\n",
      " |  \n",
      " |  See Also\n",
      " |  --------\n",
      " |  HashingVectorizer : Convert a collection of text documents to a\n",
      " |      matrix of token counts.\n",
      " |  \n",
      " |  TfidfVectorizer : Convert a collection of raw documents to a matrix\n",
      " |      of TF-IDF features.\n",
      " |  \n",
      " |  Notes\n",
      " |  -----\n",
      " |  The ``stop_words_`` attribute can get large and increase the model size\n",
      " |  when pickling. This attribute is provided only for introspection and can\n",
      " |  be safely removed using delattr or set to None before pickling.\n",
      " |  \n",
      " |  Examples\n",
      " |  --------\n",
      " |  >>> from sklearn.feature_extraction.text import CountVectorizer\n",
      " |  >>> corpus = [\n",
      " |  ...     'This is the first document.',\n",
      " |  ...     'This document is the second document.',\n",
      " |  ...     'And this is the third one.',\n",
      " |  ...     'Is this the first document?',\n",
      " |  ... ]\n",
      " |  >>> vectorizer = CountVectorizer()\n",
      " |  >>> X = vectorizer.fit_transform(corpus)\n",
      " |  >>> vectorizer.get_feature_names_out()\n",
      " |  array(['and', 'document', 'first', 'is', 'one', 'second', 'the', 'third',\n",
      " |         'this'], ...)\n",
      " |  >>> print(X.toarray())\n",
      " |  [[0 1 1 1 0 0 1 0 1]\n",
      " |   [0 2 0 1 0 1 1 0 1]\n",
      " |   [1 0 0 1 1 0 1 1 1]\n",
      " |   [0 1 1 1 0 0 1 0 1]]\n",
      " |  >>> vectorizer2 = CountVectorizer(analyzer='word', ngram_range=(2, 2))\n",
      " |  >>> X2 = vectorizer2.fit_transform(corpus)\n",
      " |  >>> vectorizer2.get_feature_names_out()\n",
      " |  array(['and this', 'document is', 'first document', 'is the', 'is this',\n",
      " |         'second document', 'the first', 'the second', 'the third', 'third one',\n",
      " |         'this document', 'this is', 'this the'], ...)\n",
      " |   >>> print(X2.toarray())\n",
      " |   [[0 0 1 1 0 0 1 0 0 0 0 1 0]\n",
      " |   [0 1 0 1 0 1 0 1 0 0 1 0 0]\n",
      " |   [1 0 0 1 0 0 0 0 1 1 0 1 0]\n",
      " |   [0 0 1 0 1 0 1 0 0 0 0 0 1]]\n",
      " |  \n",
      " |  Method resolution order:\n",
      " |      CountVectorizer\n",
      " |      _VectorizerMixin\n",
      " |      sklearn.base.BaseEstimator\n",
      " |      builtins.object\n",
      " |  \n",
      " |  Methods defined here:\n",
      " |  \n",
      " |  __init__(self, *, input='content', encoding='utf-8', decode_error='strict', strip_accents=None, lowercase=True, preprocessor=None, tokenizer=None, stop_words=None, token_pattern='(?u)\\\\b\\\\w\\\\w+\\\\b', ngram_range=(1, 1), analyzer='word', max_df=1.0, min_df=1, max_features=None, vocabulary=None, binary=False, dtype=<class 'numpy.int64'>)\n",
      " |      Initialize self.  See help(type(self)) for accurate signature.\n",
      " |  \n",
      " |  fit(self, raw_documents, y=None)\n",
      " |      Learn a vocabulary dictionary of all tokens in the raw documents.\n",
      " |      \n",
      " |      Parameters\n",
      " |      ----------\n",
      " |      raw_documents : iterable\n",
      " |          An iterable which generates either str, unicode or file objects.\n",
      " |      \n",
      " |      y : None\n",
      " |          This parameter is ignored.\n",
      " |      \n",
      " |      Returns\n",
      " |      -------\n",
      " |      self : object\n",
      " |          Fitted vectorizer.\n",
      " |  \n",
      " |  fit_transform(self, raw_documents, y=None)\n",
      " |      Learn the vocabulary dictionary and return document-term matrix.\n",
      " |      \n",
      " |      This is equivalent to fit followed by transform, but more efficiently\n",
      " |      implemented.\n",
      " |      \n",
      " |      Parameters\n",
      " |      ----------\n",
      " |      raw_documents : iterable\n",
      " |          An iterable which generates either str, unicode or file objects.\n",
      " |      \n",
      " |      y : None\n",
      " |          This parameter is ignored.\n",
      " |      \n",
      " |      Returns\n",
      " |      -------\n",
      " |      X : array of shape (n_samples, n_features)\n",
      " |          Document-term matrix.\n",
      " |  \n",
      " |  get_feature_names(self)\n",
      " |      DEPRECATED: get_feature_names is deprecated in 1.0 and will be removed in 1.2. Please use get_feature_names_out instead.\n",
      " |      \n",
      " |      Array mapping from feature integer indices to feature name.\n",
      " |      \n",
      " |          Returns\n",
      " |          -------\n",
      " |          feature_names : list\n",
      " |              A list of feature names.\n",
      " |  \n",
      " |  get_feature_names_out(self, input_features=None)\n",
      " |      Get output feature names for transformation.\n",
      " |      \n",
      " |      Parameters\n",
      " |      ----------\n",
      " |      input_features : array-like of str or None, default=None\n",
      " |          Not used, present here for API consistency by convention.\n",
      " |      \n",
      " |      Returns\n",
      " |      -------\n",
      " |      feature_names_out : ndarray of str objects\n",
      " |          Transformed feature names.\n",
      " |  \n",
      " |  inverse_transform(self, X)\n",
      " |      Return terms per document with nonzero entries in X.\n",
      " |      \n",
      " |      Parameters\n",
      " |      ----------\n",
      " |      X : {array-like, sparse matrix} of shape (n_samples, n_features)\n",
      " |          Document-term matrix.\n",
      " |      \n",
      " |      Returns\n",
      " |      -------\n",
      " |      X_inv : list of arrays of shape (n_samples,)\n",
      " |          List of arrays of terms.\n",
      " |  \n",
      " |  transform(self, raw_documents)\n",
      " |      Transform documents to document-term matrix.\n",
      " |      \n",
      " |      Extract token counts out of raw text documents using the vocabulary\n",
      " |      fitted with fit or the one provided to the constructor.\n",
      " |      \n",
      " |      Parameters\n",
      " |      ----------\n",
      " |      raw_documents : iterable\n",
      " |          An iterable which generates either str, unicode or file objects.\n",
      " |      \n",
      " |      Returns\n",
      " |      -------\n",
      " |      X : sparse matrix of shape (n_samples, n_features)\n",
      " |          Document-term matrix.\n",
      " |  \n",
      " |  ----------------------------------------------------------------------\n",
      " |  Methods inherited from _VectorizerMixin:\n",
      " |  \n",
      " |  build_analyzer(self)\n",
      " |      Return a callable to process input data.\n",
      " |      \n",
      " |      The callable handles that handles preprocessing, tokenization, and\n",
      " |      n-grams generation.\n",
      " |      \n",
      " |      Returns\n",
      " |      -------\n",
      " |      analyzer: callable\n",
      " |          A function to handle preprocessing, tokenization\n",
      " |          and n-grams generation.\n",
      " |  \n",
      " |  build_preprocessor(self)\n",
      " |      Return a function to preprocess the text before tokenization.\n",
      " |      \n",
      " |      Returns\n",
      " |      -------\n",
      " |      preprocessor: callable\n",
      " |            A function to preprocess the text before tokenization.\n",
      " |  \n",
      " |  build_tokenizer(self)\n",
      " |      Return a function that splits a string into a sequence of tokens.\n",
      " |      \n",
      " |      Returns\n",
      " |      -------\n",
      " |      tokenizer: callable\n",
      " |            A function to split a string into a sequence of tokens.\n",
      " |  \n",
      " |  decode(self, doc)\n",
      " |      Decode the input into a string of unicode symbols.\n",
      " |      \n",
      " |      The decoding strategy depends on the vectorizer parameters.\n",
      " |      \n",
      " |      Parameters\n",
      " |      ----------\n",
      " |      doc : str\n",
      " |          The string to decode.\n",
      " |      \n",
      " |      Returns\n",
      " |      -------\n",
      " |      doc: str\n",
      " |          A string of unicode symbols.\n",
      " |  \n",
      " |  get_stop_words(self)\n",
      " |      Build or fetch the effective stop words list.\n",
      " |      \n",
      " |      Returns\n",
      " |      -------\n",
      " |      stop_words: list or None\n",
      " |              A list of stop words.\n",
      " |  \n",
      " |  ----------------------------------------------------------------------\n",
      " |  Data descriptors inherited from _VectorizerMixin:\n",
      " |  \n",
      " |  __dict__\n",
      " |      dictionary for instance variables (if defined)\n",
      " |  \n",
      " |  __weakref__\n",
      " |      list of weak references to the object (if defined)\n",
      " |  \n",
      " |  ----------------------------------------------------------------------\n",
      " |  Methods inherited from sklearn.base.BaseEstimator:\n",
      " |  \n",
      " |  __getstate__(self)\n",
      " |  \n",
      " |  __repr__(self, N_CHAR_MAX=700)\n",
      " |      Return repr(self).\n",
      " |  \n",
      " |  __setstate__(self, state)\n",
      " |  \n",
      " |  get_params(self, deep=True)\n",
      " |      Get parameters for this estimator.\n",
      " |      \n",
      " |      Parameters\n",
      " |      ----------\n",
      " |      deep : bool, default=True\n",
      " |          If True, will return the parameters for this estimator and\n",
      " |          contained subobjects that are estimators.\n",
      " |      \n",
      " |      Returns\n",
      " |      -------\n",
      " |      params : dict\n",
      " |          Parameter names mapped to their values.\n",
      " |  \n",
      " |  set_params(self, **params)\n",
      " |      Set the parameters of this estimator.\n",
      " |      \n",
      " |      The method works on simple estimators as well as on nested objects\n",
      " |      (such as :class:`~sklearn.pipeline.Pipeline`). The latter have\n",
      " |      parameters of the form ``<component>__<parameter>`` so that it's\n",
      " |      possible to update each component of a nested object.\n",
      " |      \n",
      " |      Parameters\n",
      " |      ----------\n",
      " |      **params : dict\n",
      " |          Estimator parameters.\n",
      " |      \n",
      " |      Returns\n",
      " |      -------\n",
      " |      self : estimator instance\n",
      " |          Estimator instance.\n",
      "\n"
     ]
    }
   ],
   "source": [
    "help(CountVectorizer)"
   ]
  },
  {
   "cell_type": "code",
   "execution_count": 131,
   "metadata": {},
   "outputs": [
    {
     "data": {
      "text/plain": [
       "0    love album good hip hop side current pop sound...\n",
       "1       good flavor review wa collected part promotion\n",
       "2                                          good flavor\n",
       "3    read review looking buying one couple lubrican...\n",
       "4    husband bought gel u gel caused irritation fel...\n",
       "5    boyfriend bought spice thing bedroom highly di...\n",
       "6    bought earlier today wa excited check based pr...\n",
       "7    bought product husband try impressed wa tingli...\n",
       "8    husband bought extra fun werevboth extremely d...\n",
       "9    got surprise husband nothing special lube save...\n",
       "Name: reviews_text, dtype: object"
      ]
     },
     "execution_count": 131,
     "metadata": {},
     "output_type": "execute_result"
    }
   ],
   "source": [
    "df_reviews['reviews_text'].head(10)"
   ]
  },
  {
   "cell_type": "code",
   "execution_count": 144,
   "metadata": {},
   "outputs": [],
   "source": [
    "from sklearn.manifold import TSNE"
   ]
  },
  {
   "cell_type": "code",
   "execution_count": 145,
   "metadata": {},
   "outputs": [
    {
     "name": "stderr",
     "output_type": "stream",
     "text": [
      "C:\\Users\\balaji\\AppData\\Roaming\\Python\\Python37\\site-packages\\sklearn\\manifold\\_t_sne.py:783: FutureWarning: The default initialization in TSNE will change from 'random' to 'pca' in 1.2.\n",
      "  FutureWarning,\n"
     ]
    }
   ],
   "source": [
    "tsne_model = TSNE(n_components=2, perplexity=40, random_state=42, learning_rate=500)\n",
    "data_tsne = tsne_model.fit_transform(data_count.toarray())"
   ]
  },
  {
   "cell_type": "code",
   "execution_count": 146,
   "metadata": {},
   "outputs": [
    {
     "data": {
      "image/png": "[encoded data removed]",
      "text/plain": [
       "<Figure size 432x288 with 1 Axes>"
      ]
     },
     "metadata": {
      "needs_background": "light"
     },
     "output_type": "display_data"
    }
   ],
   "source": [
    "plt.scatter(data_tsne[:,0], data_tsne[:,1], c=df_reviews[\"user_sentiment\"])\n",
    "plt.show()"
   ]
  },
  {
   "cell_type": "code",
   "execution_count": 147,
   "metadata": {},
   "outputs": [],
   "source": [
    "tfidf_vector = TfidfVectorizer(stop_words='english', max_features=500, max_df=0.8, min_df=7)\n",
    "tfidf_data_count = tfidf_vector.fit_transform(df_reviews['reviews_text'])"
   ]
  },
  {
   "cell_type": "code",
   "execution_count": 148,
   "metadata": {},
   "outputs": [
    {
     "name": "stdout",
     "output_type": "stream",
     "text": [
      "['abl' 'absolut' 'act' 'action' 'actor' 'actual' 'ad' 'add' 'addit' 'age'\n",
      " 'ago' 'alreadi' 'alway' 'amaz' 'anoth' 'anyon' 'anyth' 'anywh' 'appli'\n",
      " 'area' 'ask' 'avail' 'away' 'awesom' 'babi' 'bad' 'bag' 'balm' 'base'\n",
      " 'bathroom' 'beauti' 'bee' 'believ' 'best' 'better' 'big' 'bit' 'black'\n",
      " 'bleach' 'blu' 'bluray' 'bodi' 'bottl' 'bought' 'box' 'boy' 'brand'\n",
      " 'bring' 'brown' 'burt' 'busi' 'buy' 'came' 'canist' 'car' 'care' 'carpet'\n",
      " 'carri' 'cast' 'cd' 'chair' 'chang' 'charact' 'child' 'chip' 'classic'\n",
      " 'classroom' 'clay' 'clean' 'cleaner' 'cleanup' 'clear' 'clorox' 'close'\n",
      " 'cloth' 'cocoa' 'cold' 'collect' 'color' 'come' 'comedi' 'comfort'\n",
      " 'compani' 'compar' 'complet' 'complimentari' 'condit' 'contain' 'continu'\n",
      " 'control' 'conveni' 'cook' 'copi' 'counter' 'countertop' 'coupl' 'cover'\n",
      " 'cream' 'curl' 'curli' 'custom' 'cut' 'daili' 'dark' 'daughter' 'day'\n",
      " 'deal' 'decent' 'decid' 'deep' 'definit' 'deodor' 'desk' 'didnt' 'differ'\n",
      " 'digit' 'disappoint' 'discontinu' 'disinfect' 'disney' 'divid' 'doe'\n",
      " 'doesnt' 'dog' 'dont' 'door' 'dri' 'dvd' 'ea' 'easi' 'easier' 'easili'\n",
      " 'eat' 'effect' 'el' 'end' 'enjoy' 'entertain' 'entir' 'especi' 'everi'\n",
      " 'everyday' 'everyon' 'everyth' 'everywh' 'evil' 'excel' 'excit' 'expect'\n",
      " 'expen' 'extra' 'extrem' 'exxtra' 'eye' 'face' 'fact' 'famili' 'fan'\n",
      " 'fantast' 'far' 'fast' 'favorit' 'featur' 'feel' 'felt' 'fight' 'file'\n",
      " 'film' 'final' 'fine' 'finish' 'flavor' 'floor' 'flu' 'folder' 'follow'\n",
      " 'formula' 'fragranc' 'free' 'fresh' 'friend' 'fun' 'funni' 'gave' 'gel'\n",
      " 'gener' 'germ' 'gift' 'glad' 'glass' 'godzilla' 'gone' 'good' 'got'\n",
      " 'grab' 'greasi' 'great' 'guy' 'ha' 'hair' 'hand' 'handi' 'handl' 'happen'\n",
      " 'happi' 'hard' 'hate' 'havent' 'head' 'healthi' 'heavi' 'help' 'high'\n",
      " 'highli' 'hilari' 'hold' 'home' 'hoover' 'hope' 'horribl' 'hou' 'hour'\n",
      " 'household' 'howev' 'huge' 'husband' 'hydrat' 'id' 'ill' 'im' 'impress'\n",
      " 'includ' 'influenst' 'instead' 'isnt' 'issu' 'item' 'ive' 'job' 'kept'\n",
      " 'kid' 'kill' 'kind' 'kitchen' 'know' 'larg' 'laugh' 'laundri' 'le' 'leaf'\n",
      " 'leav' 'left' 'lemon' 'let' 'life' 'light' 'lightweight' 'like' 'line'\n",
      " 'lip' 'lipstick' 'littl' 'live' 'long' 'longer' 'look' 'lot' 'lotion'\n",
      " 'love' 'low' 'lysol' 'make' 'makeup' 'mani' 'market' 'mask' 'mayb' 'mess'\n",
      " 'messi' 'minut' 'miss' 'mix' 'moistur' 'mom' 'money' 'monster' 'month'\n",
      " 'morn' 'mother' 'movi' 'multipl' 'nail' 'natur' 'need' 'new' 'nexxu'\n",
      " 'nice' 'night' 'normal' 'noth' 'notic' 'offer' 'offic' 'oil' 'oili' 'ok'\n",
      " 'olay' 'old' 'onlin' 'open' 'opinion' 'order' 'organ' 'origin' 'pack'\n",
      " 'packag' 'paper' 'past' 'peopl' 'perfect' 'person' 'pick' 'pictur'\n",
      " 'place' 'plane' 'play' 'plea' 'plot' 'plu' 'powder' 'power' 'prefer'\n",
      " 'pretti' 'previou' 'price' 'problem' 'product' 'promot' 'provid' 'pull'\n",
      " 'purcha' 'purpo' 'qualiti' 'quick' 'quickli' 'quit' 'ray' 'read' 'real'\n",
      " 'realli' 'reason' 'receiv' 'recent' 'recommend' 'red' 'regular' 'remak'\n",
      " 'rememb' 'remov' 'replac' 'resid' 'result' 'return' 'review' 'rice'\n",
      " 'right' 'room' 'root' 'run' 'safe' 'said' 'sale' 'sanit' 'save' 'saw'\n",
      " 'say' 'scalp' 'scene' 'scent' 'school' 'screen' 'season' 'second' 'seen'\n",
      " 'sensit' 'sequel' 'seri' 'set' 'sever' 'shade' 'shampoo' 'shimmer'\n",
      " 'shine' 'shini' 'shower' 'sick' 'silki' 'simpl' 'sinc' 'sink' 'sit'\n",
      " 'size' 'skin' 'small' 'smell' 'smooth' 'soft' 'someon' 'someth' 'sometim'\n",
      " 'son' 'soon' 'sound' 'special' 'spill' 'spray' 'stain' 'star' 'start'\n",
      " 'stay' 'stick' 'sticki' 'stock' 'stop' 'store' 'stori' 'stove' 'streak'\n",
      " 'strong' 'stuff' 'style' 'sunscreen' 'super' 'sure' 'surfac' 'surpri'\n",
      " 'switch' 'tab' 'tabl' 'tast' 'tell' 'terribl' 'test' 'textur' 'thank'\n",
      " 'theater' 'theyr' 'thing' 'think' 'thought' 'throw' 'time' 'togeth'\n",
      " 'toilet' 'took' 'total' 'touch' 'towel' 'toy' 'tri' 'true' 'truli'\n",
      " 'trust' 'tube' 'turn' 'tv' 'type' 'upright' 'use' 'usual' 'vacuum' 'valu'\n",
      " 'version' 'wa' 'wait' 'walmart' 'want' 'wash' 'wasnt' 'watch' 'water'\n",
      " 'way' 'wear' 'week' 'went' 'white' 'wife' 'windex' 'window' 'wipe' 'wish'\n",
      " 'wonder' 'wont' 'work' 'worri' 'worth' 'wouldnt' 'wrong' 'year' 'young']\n"
     ]
    }
   ],
   "source": [
    "print(tfidf_vector.get_feature_names_out())"
   ]
  },
  {
   "cell_type": "code",
   "execution_count": 149,
   "metadata": {},
   "outputs": [
    {
     "name": "stderr",
     "output_type": "stream",
     "text": [
      "C:\\Users\\balaji\\AppData\\Roaming\\Python\\Python37\\site-packages\\sklearn\\manifold\\_t_sne.py:783: FutureWarning: The default initialization in TSNE will change from 'random' to 'pca' in 1.2.\n",
      "  FutureWarning,\n"
     ]
    }
   ],
   "source": [
    "data_tfidf_tsne = tsne_model.fit_transform(tfidf_data_count.toarray())"
   ]
  },
  {
   "cell_type": "code",
   "execution_count": 151,
   "metadata": {},
   "outputs": [
    {
     "data": {
      "image/png": "[encoded data removed]",
      "text/plain": [
       "<Figure size 432x288 with 1 Axes>"
      ]
     },
     "metadata": {
      "needs_background": "light"
     },
     "output_type": "display_data"
    }
   ],
   "source": [
    "plt.scatter(data_tfidf_tsne[:,0], data_tfidf_tsne[:,1], c=df_reviews[\"user_sentiment\"])\n",
    "plt.show()"
   ]
  },
  {
   "cell_type": "code",
   "execution_count": 152,
   "metadata": {},
   "outputs": [],
   "source": [
    "from sklearn.model_selection  import train_test_split\n",
    "X_train, X_test, y_train, y_test = train_test_split(tfidf_data_count, df_reviews[\"user_sentiment\"], random_state=1)"
   ]
  },
  {
   "cell_type": "code",
   "execution_count": 153,
   "metadata": {},
   "outputs": [],
   "source": [
    "from sklearn.linear_model import LogisticRegression"
   ]
  },
  {
   "cell_type": "code",
   "execution_count": 154,
   "metadata": {},
   "outputs": [
    {
     "data": {
      "text/plain": [
       "LogisticRegression(random_state=42, solver='sag')"
      ]
     },
     "execution_count": 154,
     "metadata": {},
     "output_type": "execute_result"
    }
   ],
   "source": [
    "log_reg = LogisticRegression(random_state=42, max_iter=100,solver='sag')\n",
    "log_reg.fit(X_train, y_train)"
   ]
  },
  {
   "cell_type": "code",
   "execution_count": 160,
   "metadata": {},
   "outputs": [],
   "source": [
    "from sklearn.metrics import classification_report, confusion_matrix, accuracy_score,f1_score"
   ]
  },
  {
   "cell_type": "code",
   "execution_count": 157,
   "metadata": {},
   "outputs": [],
   "source": [
    "predictions = log_reg.predict(X_test)"
   ]
  },
  {
   "cell_type": "code",
   "execution_count": 161,
   "metadata": {},
   "outputs": [
    {
     "name": "stdout",
     "output_type": "stream",
     "text": [
      "              precision    recall  f1-score   support\n",
      "\n",
      "           0       0.79      0.35      0.49       825\n",
      "           1       0.92      0.99      0.96      6675\n",
      "\n",
      "    accuracy                           0.92      7500\n",
      "   macro avg       0.86      0.67      0.72      7500\n",
      "weighted avg       0.91      0.92      0.90      7500\n",
      "\n",
      "[[ 289  536]\n",
      " [  75 6600]]\n",
      "0.9185333333333333\n",
      "0.9557599015277676\n"
     ]
    }
   ],
   "source": [
    "print(classification_report(y_test, predictions))\n",
    "print(confusion_matrix(y_test, predictions))\n",
    "print(accuracy_score(y_test, predictions))\n",
    "print(f1_score(y_test, predictions))"
   ]
  },
  {
   "cell_type": "code",
   "execution_count": 164,
   "metadata": {},
   "outputs": [],
   "source": [
    "from collections import Counter\n",
    "from imblearn.over_sampling import SMOTE"
   ]
  },
  {
   "cell_type": "code",
   "execution_count": 165,
   "metadata": {},
   "outputs": [
    {
     "name": "stdout",
     "output_type": "stream",
     "text": [
      "Before Counter({1: 19957, 0: 2542})\n",
      "After Counter({1: 19957, 0: 19957})\n"
     ]
    }
   ],
   "source": [
    "counter = Counter(y_train)\n",
    "print('Before',counter)\n",
    "\n",
    "sm = SMOTE()\n",
    "\n",
    "# transform the dataset\n",
    "X_train, y_train = sm.fit_resample(X_train, y_train)\n",
    "\n",
    "counter = Counter(y_train)\n",
    "print('After',counter)"
   ]
  },
  {
   "cell_type": "code",
   "execution_count": 166,
   "metadata": {},
   "outputs": [
    {
     "data": {
      "text/plain": [
       "LogisticRegression(random_state=42, solver='sag')"
      ]
     },
     "execution_count": 166,
     "metadata": {},
     "output_type": "execute_result"
    }
   ],
   "source": [
    "log_reg = LogisticRegression(random_state=42, max_iter=100,solver='sag')\n",
    "log_reg.fit(X_train, y_train)"
   ]
  },
  {
   "cell_type": "code",
   "execution_count": 167,
   "metadata": {},
   "outputs": [],
   "source": [
    "predictions = log_reg.predict(X_test)"
   ]
  },
  {
   "cell_type": "code",
   "execution_count": 168,
   "metadata": {},
   "outputs": [
    {
     "name": "stdout",
     "output_type": "stream",
     "text": [
      "              precision    recall  f1-score   support\n",
      "\n",
      "           0       0.52      0.85      0.65       825\n",
      "           1       0.98      0.90      0.94      6675\n",
      "\n",
      "    accuracy                           0.90      7500\n",
      "   macro avg       0.75      0.88      0.79      7500\n",
      "weighted avg       0.93      0.90      0.91      7500\n",
      "\n",
      "[[ 702  123]\n",
      " [ 644 6031]]\n",
      "0.8977333333333334\n",
      "0.9402135786109597\n"
     ]
    }
   ],
   "source": [
    "print(classification_report(y_test, predictions))\n",
    "print(confusion_matrix(y_test, predictions))\n",
    "print(accuracy_score(y_test, predictions))\n",
    "print(f1_score(y_test, predictions))"
   ]
  },
  {
   "cell_type": "code",
   "execution_count": 169,
   "metadata": {},
   "outputs": [],
   "source": [
    "from nltk.corpus import wordnet"
   ]
  },
  {
   "cell_type": "code",
   "execution_count": 170,
   "metadata": {},
   "outputs": [],
   "source": [
    "def get_wordnet_pos(treebank_tag):\n",
    "\n",
    "    if treebank_tag.startswith('J'):\n",
    "        return wordnet.ADJ\n",
    "    elif treebank_tag.startswith('V'):\n",
    "        return wordnet.VERB\n",
    "    elif treebank_tag.startswith('N'):\n",
    "        return wordnet.NOUN\n",
    "    elif treebank_tag.startswith('R'):\n",
    "        return wordnet.ADV\n",
    "    else:\n",
    "        return ''"
   ]
  },
  {
   "cell_type": "code",
   "execution_count": 177,
   "metadata": {},
   "outputs": [],
   "source": [
    "def lemma_text(text):\n",
    "     # tokenize into words\n",
    "    #words = word_tokenize(text)\n",
    "    \n",
    "    #get the pos tag \n",
    "    #print(nltk.pos_tag(word))\n",
    "    \n",
    "    # remove stop words and lemmatize\n",
    "    words = [nltk.pos_tag(word) for word in text.split() if word.isalpha() and word not in stop_words]\n",
    "\n",
    "    # join words to make sentence\n",
    "    #return \" \".join(words)\n",
    "    return words"
   ]
  },
  {
   "cell_type": "code",
   "execution_count": 178,
   "metadata": {},
   "outputs": [
    {
     "data": {
      "text/plain": [
       "[[('w', 'NN'),\n",
       "  ('o', 'MD'),\n",
       "  ('n', 'VB'),\n",
       "  ('d', 'NN'),\n",
       "  ('e', 'NN'),\n",
       "  ('r', 'NN'),\n",
       "  ('f', 'NN'),\n",
       "  ('u', 'JJ'),\n",
       "  ('l', 'NN')],\n",
       " [('p', 'NN'),\n",
       "  ('r', 'NN'),\n",
       "  ('o', 'NN'),\n",
       "  ('d', 'NN'),\n",
       "  ('u', 'JJ'),\n",
       "  ('c', 'NN'),\n",
       "  ('t', 'NN')]]"
      ]
     },
     "execution_count": 178,
     "metadata": {},
     "output_type": "execute_result"
    }
   ],
   "source": [
    "lemma_text(\"this is a wonderful product\")"
   ]
  },
  {
   "cell_type": "code",
   "execution_count": 179,
   "metadata": {},
   "outputs": [],
   "source": [
    "def getMostCommonWords(reviews, n_most_common):\n",
    "    # param reviews: column from pandas.DataFrame (e.g. df['Reviews']) \n",
    "        #(pandas.Series)\n",
    "    # param n_most_common: the top n most common words in reviews (int)\n",
    "    # param stopwords: list of stopwords (str) to remove from reviews (list)\n",
    "    # Returns list of n_most_common words organized in tuples as \n",
    "        #('term', frequency) (list)\n",
    "\n",
    "    # flatten review column into a list of words, and set each to lowercase\n",
    "    flattened_reviews = [word for review in reviews for word in \\\n",
    "                         review.lower().split()]\n",
    "\n",
    "\n",
    "    # remove punctuation from reviews\n",
    "    flattened_reviews = [''.join(char for char in review if \\\n",
    "                                 char not in string.punctuation) for \\\n",
    "                         review in flattened_reviews]\n",
    "\n",
    "\n",
    "    # remove any empty strings that were created by this process\n",
    "    flattened_reviews = [review for review in flattened_reviews if review]\n",
    "\n",
    "    return Counter(flattened_reviews).most_common(n_most_common)"
   ]
  },
  {
   "cell_type": "code",
   "execution_count": 181,
   "metadata": {},
   "outputs": [
    {
     "data": {
      "text/plain": [
       "[('wa', 14228),\n",
       " ('use', 11460),\n",
       " ('love', 9658),\n",
       " ('great', 8792),\n",
       " ('review', 8513),\n",
       " ('product', 8448),\n",
       " ('part', 8333),\n",
       " ('collect', 8317),\n",
       " ('promot', 7956),\n",
       " ('clean', 7429)]"
      ]
     },
     "execution_count": 181,
     "metadata": {},
     "output_type": "execute_result"
    }
   ],
   "source": [
    "pos_reviews = df_reviews[df_reviews['user_sentiment']==1]\n",
    "getMostCommonWords(pos_reviews['reviews_text'],10)"
   ]
  },
  {
   "cell_type": "code",
   "execution_count": 206,
   "metadata": {},
   "outputs": [
    {
     "data": {
      "text/plain": [
       "[('wa', 13448),\n",
       " ('use', 11174),\n",
       " ('love', 9422),\n",
       " ('review', 8793),\n",
       " ('collect', 8775),\n",
       " ('part', 8713),\n",
       " ('great', 8424),\n",
       " ('promot', 8381),\n",
       " ('product', 7679),\n",
       " ('clean', 7537)]"
      ]
     },
     "execution_count": 206,
     "metadata": {},
     "output_type": "execute_result"
    }
   ],
   "source": [
    "pos_ratings = df_reviews[df_reviews['reviews_rating']>3]\n",
    "getMostCommonWords(pos_ratings['reviews_text'],10)"
   ]
  },
  {
   "cell_type": "code",
   "execution_count": 204,
   "metadata": {},
   "outputs": [
    {
     "data": {
      "text/plain": [
       "[('wa', 1628),\n",
       " ('use', 1494),\n",
       " ('product', 1011),\n",
       " ('review', 900),\n",
       " ('collect', 862),\n",
       " ('part', 845),\n",
       " ('promot', 802),\n",
       " ('like', 671),\n",
       " ('movi', 597),\n",
       " ('wipe', 572)]"
      ]
     },
     "execution_count": 204,
     "metadata": {},
     "output_type": "execute_result"
    }
   ],
   "source": [
    "neg_reviews = df_reviews[df_reviews['user_sentiment']==0]\n",
    "getMostCommonWords(neg_reviews['reviews_text'],10)"
   ]
  },
  {
   "cell_type": "code",
   "execution_count": null,
   "metadata": {},
   "outputs": [],
   "source": []
  },
  {
   "cell_type": "code",
   "execution_count": 205,
   "metadata": {},
   "outputs": [
    {
     "data": {
      "text/plain": [
       "[('wa', 2408),\n",
       " ('use', 1780),\n",
       " ('product', 1780),\n",
       " ('hair', 1526),\n",
       " ('formula', 1132),\n",
       " ('like', 1051),\n",
       " ('new', 1021),\n",
       " ('old', 870),\n",
       " ('movi', 807),\n",
       " ('gel', 766)]"
      ]
     },
     "execution_count": 205,
     "metadata": {},
     "output_type": "execute_result"
    }
   ],
   "source": [
    "neg_ratings = df_reviews[df_reviews['reviews_rating']<=3]\n",
    "getMostCommonWords(neg_ratings['reviews_text'],10)"
   ]
  },
  {
   "cell_type": "code",
   "execution_count": 188,
   "metadata": {},
   "outputs": [
    {
     "data": {
      "text/html": [
       "<div>\n",
       "<style scoped>\n",
       "    .dataframe tbody tr th:only-of-type {\n",
       "        vertical-align: middle;\n",
       "    }\n",
       "\n",
       "    .dataframe tbody tr th {\n",
       "        vertical-align: top;\n",
       "    }\n",
       "\n",
       "    .dataframe thead th {\n",
       "        text-align: right;\n",
       "    }\n",
       "</style>\n",
       "<table border=\"1\" class=\"dataframe\">\n",
       "  <thead>\n",
       "    <tr style=\"text-align: right;\">\n",
       "      <th></th>\n",
       "      <th>reviews_title</th>\n",
       "      <th>reviews_text</th>\n",
       "    </tr>\n",
       "  </thead>\n",
       "  <tbody>\n",
       "    <tr>\n",
       "      <th>3</th>\n",
       "      <td>Disappointed</td>\n",
       "      <td>read review look buy one coupl lubric wa ultim...</td>\n",
       "    </tr>\n",
       "    <tr>\n",
       "      <th>4</th>\n",
       "      <td>Irritation</td>\n",
       "      <td>husband bought gel u gel cau irrit felt like w...</td>\n",
       "    </tr>\n",
       "    <tr>\n",
       "      <th>5</th>\n",
       "      <td>Not worth it</td>\n",
       "      <td>boyfriend bought spice thing bedroom highli di...</td>\n",
       "    </tr>\n",
       "    <tr>\n",
       "      <th>6</th>\n",
       "      <td>Disappointing</td>\n",
       "      <td>bought earlier today wa excit check base produ...</td>\n",
       "    </tr>\n",
       "    <tr>\n",
       "      <th>7</th>\n",
       "      <td>Not happy at all</td>\n",
       "      <td>bought product husband tri impress wa tingl wa...</td>\n",
       "    </tr>\n",
       "    <tr>\n",
       "      <th>...</th>\n",
       "      <td>...</td>\n",
       "      <td>...</td>\n",
       "    </tr>\n",
       "    <tr>\n",
       "      <th>29818</th>\n",
       "      <td>Great Product</td>\n",
       "      <td>receiv complimentari sampl product work well h...</td>\n",
       "    </tr>\n",
       "    <tr>\n",
       "      <th>29855</th>\n",
       "      <td>Great</td>\n",
       "      <td>ha prolong color hair hair healthier think ill...</td>\n",
       "    </tr>\n",
       "    <tr>\n",
       "      <th>29858</th>\n",
       "      <td>Makes my hair soft and shiny without excess oil!</td>\n",
       "      <td>condit make hair soft without weigh wa afraid ...</td>\n",
       "    </tr>\n",
       "    <tr>\n",
       "      <th>29862</th>\n",
       "      <td>Great Conditioner</td>\n",
       "      <td>condit ha becom stapl hair regimen review wa c...</td>\n",
       "    </tr>\n",
       "    <tr>\n",
       "      <th>29941</th>\n",
       "      <td>Good for keeping combination hair under control</td>\n",
       "      <td>difficult find condit nongreasi found one espe...</td>\n",
       "    </tr>\n",
       "  </tbody>\n",
       "</table>\n",
       "<p>3367 rows × 2 columns</p>\n",
       "</div>"
      ],
      "text/plain": [
       "                                          reviews_title  \\\n",
       "3                                          Disappointed   \n",
       "4                                            Irritation   \n",
       "5                                          Not worth it   \n",
       "6                                         Disappointing   \n",
       "7                                      Not happy at all   \n",
       "...                                                 ...   \n",
       "29818                                     Great Product   \n",
       "29855                                             Great   \n",
       "29858  Makes my hair soft and shiny without excess oil!   \n",
       "29862                                 Great Conditioner   \n",
       "29941   Good for keeping combination hair under control   \n",
       "\n",
       "                                            reviews_text  \n",
       "3      read review look buy one coupl lubric wa ultim...  \n",
       "4      husband bought gel u gel cau irrit felt like w...  \n",
       "5      boyfriend bought spice thing bedroom highli di...  \n",
       "6      bought earlier today wa excit check base produ...  \n",
       "7      bought product husband tri impress wa tingl wa...  \n",
       "...                                                  ...  \n",
       "29818  receiv complimentari sampl product work well h...  \n",
       "29855  ha prolong color hair hair healthier think ill...  \n",
       "29858  condit make hair soft without weigh wa afraid ...  \n",
       "29862  condit ha becom stapl hair regimen review wa c...  \n",
       "29941  difficult find condit nongreasi found one espe...  \n",
       "\n",
       "[3367 rows x 2 columns]"
      ]
     },
     "execution_count": 188,
     "metadata": {},
     "output_type": "execute_result"
    }
   ],
   "source": [
    "neg_reviews[[\"reviews_title\",\"reviews_text\"]]"
   ]
  },
  {
   "cell_type": "code",
   "execution_count": 198,
   "metadata": {},
   "outputs": [
    {
     "data": {
      "text/html": [
       "<div>\n",
       "<style scoped>\n",
       "    .dataframe tbody tr th:only-of-type {\n",
       "        vertical-align: middle;\n",
       "    }\n",
       "\n",
       "    .dataframe tbody tr th {\n",
       "        vertical-align: top;\n",
       "    }\n",
       "\n",
       "    .dataframe thead th {\n",
       "        text-align: right;\n",
       "    }\n",
       "</style>\n",
       "<table border=\"1\" class=\"dataframe\">\n",
       "  <thead>\n",
       "    <tr style=\"text-align: right;\">\n",
       "      <th></th>\n",
       "      <th>reviews_text</th>\n",
       "      <th>user_sentiment</th>\n",
       "    </tr>\n",
       "  </thead>\n",
       "  <tbody>\n",
       "    <tr>\n",
       "      <th>3383</th>\n",
       "      <td>use condit past week thank bzzagent use use pa...</td>\n",
       "      <td>1</td>\n",
       "    </tr>\n",
       "    <tr>\n",
       "      <th>29174</th>\n",
       "      <td>receiv sampl opinion realli like condit smell ...</td>\n",
       "      <td>1</td>\n",
       "    </tr>\n",
       "    <tr>\n",
       "      <th>29467</th>\n",
       "      <td>receiv sampl opinion realli like condit smell ...</td>\n",
       "      <td>1</td>\n",
       "    </tr>\n",
       "    <tr>\n",
       "      <th>29513</th>\n",
       "      <td>love condit clean hair without strip salicyl a...</td>\n",
       "      <td>1</td>\n",
       "    </tr>\n",
       "    <tr>\n",
       "      <th>29615</th>\n",
       "      <td>love condit made hair silki soft smell nice re...</td>\n",
       "      <td>1</td>\n",
       "    </tr>\n",
       "    <tr>\n",
       "      <th>29647</th>\n",
       "      <td>stuff amaz leaf hair silki soft least day defi...</td>\n",
       "      <td>1</td>\n",
       "    </tr>\n",
       "    <tr>\n",
       "      <th>29685</th>\n",
       "      <td>bought last week alreadi love ive got natur oi...</td>\n",
       "      <td>1</td>\n",
       "    </tr>\n",
       "    <tr>\n",
       "      <th>29862</th>\n",
       "      <td>condit ha becom stapl hair regimen review wa c...</td>\n",
       "      <td>0</td>\n",
       "    </tr>\n",
       "  </tbody>\n",
       "</table>\n",
       "</div>"
      ],
      "text/plain": [
       "                                            reviews_text  user_sentiment\n",
       "3383   use condit past week thank bzzagent use use pa...               1\n",
       "29174  receiv sampl opinion realli like condit smell ...               1\n",
       "29467  receiv sampl opinion realli like condit smell ...               1\n",
       "29513  love condit clean hair without strip salicyl a...               1\n",
       "29615  love condit made hair silki soft smell nice re...               1\n",
       "29647  stuff amaz leaf hair silki soft least day defi...               1\n",
       "29685  bought last week alreadi love ive got natur oi...               1\n",
       "29862  condit ha becom stapl hair regimen review wa c...               0"
      ]
     },
     "execution_count": 198,
     "metadata": {},
     "output_type": "execute_result"
    }
   ],
   "source": [
    "df_reviews[df_reviews['reviews_title']=='Great Conditioner'][['reviews_text','user_sentiment']]"
   ]
  },
  {
   "cell_type": "code",
   "execution_count": null,
   "metadata": {},
   "outputs": [],
   "source": []
  }
 ],
 "metadata": {
  "kernelspec": {
   "display_name": "Python 3",
   "language": "python",
   "name": "python3"
  },
  "language_info": {
   "codemirror_mode": {
    "name": "ipython",
    "version": 3
   },
   "file_extension": ".py",
   "mimetype": "text/x-python",
   "name": "python",
   "nbconvert_exporter": "python",
   "pygments_lexer": "ipython3",
   "version": "3.7.4"
  }
 },
 "nbformat": 4,
 "nbformat_minor": 2
}
